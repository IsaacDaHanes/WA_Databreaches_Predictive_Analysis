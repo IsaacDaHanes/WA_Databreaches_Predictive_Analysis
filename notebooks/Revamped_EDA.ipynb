{
 "cells": [
  {
   "cell_type": "markdown",
   "metadata": {},
   "source": [
    "# Initial EDA for Washington Databreach Dataframe"
   ]
  },
  {
   "cell_type": "markdown",
   "metadata": {},
   "source": [
    "## Imports & Initial\n",
    "***"
   ]
  },
  {
   "cell_type": "markdown",
   "metadata": {},
   "source": [
    "### Imports"
   ]
  },
  {
   "cell_type": "code",
   "execution_count": 118,
   "metadata": {},
   "outputs": [
    {
     "name": "stdout",
     "output_type": "stream",
     "text": [
      "The autoreload extension is already loaded. To reload it, use:\n",
      "  %reload_ext autoreload\n"
     ]
    }
   ],
   "source": [
    "# autoreload\n",
    "%load_ext autoreload\n",
    "%autoreload 2"
   ]
  },
  {
   "cell_type": "code",
   "execution_count": 193,
   "metadata": {},
   "outputs": [],
   "source": [
    "# imports\n",
    "import pandas as pd\n",
    "import numpy as np\n",
    "import math\n",
    "import matplotlib.pyplot as plt\n",
    "import statsmodels.api as sm\n",
    "import scipy.stats as st\n",
    "from random import choices\n",
    "import datetime as dt\n",
    "import dataframe_image as dfi\n",
    "from sklearn.linear_model import LinearRegression\n",
    "from sklearn.pipeline import Pipeline\n",
    "from sklearn.model_selection import KFold\n",
    "from sklearn.model_selection import train_test_split\n",
    "from sklearn.model_selection import cross_val_score\n",
    "from sklearn import metrics\n",
    "import seaborn as sns"
   ]
  },
  {
   "cell_type": "code",
   "execution_count": 120,
   "metadata": {},
   "outputs": [],
   "source": [
    "# pandas formatting\n",
    "pd.options.display.float_format = '{:.0f}'.format"
   ]
  },
  {
   "cell_type": "markdown",
   "metadata": {},
   "source": [
    "### Read csv and turn into pandas dataframe."
   ]
  },
  {
   "cell_type": "code",
   "execution_count": 121,
   "metadata": {},
   "outputs": [
    {
     "data": {
      "text/html": [
       "<div>\n",
       "<style scoped>\n",
       "    .dataframe tbody tr th:only-of-type {\n",
       "        vertical-align: middle;\n",
       "    }\n",
       "\n",
       "    .dataframe tbody tr th {\n",
       "        vertical-align: top;\n",
       "    }\n",
       "\n",
       "    .dataframe thead th {\n",
       "        text-align: right;\n",
       "    }\n",
       "</style>\n",
       "<table border=\"1\" class=\"dataframe\">\n",
       "  <thead>\n",
       "    <tr style=\"text-align: right;\">\n",
       "      <th></th>\n",
       "      <th>DateAware</th>\n",
       "      <th>DateSubmitted</th>\n",
       "      <th>DataBreachCause</th>\n",
       "      <th>DateStart</th>\n",
       "      <th>DateEnd</th>\n",
       "      <th>Name</th>\n",
       "      <th>Id</th>\n",
       "      <th>CyberattackType</th>\n",
       "      <th>WashingtoniansAffected</th>\n",
       "      <th>IndustryType</th>\n",
       "      <th>...</th>\n",
       "      <th>BreachLifecycleRange</th>\n",
       "      <th>DaysToContainBreach</th>\n",
       "      <th>DaysToIdentifyBreach</th>\n",
       "      <th>DaysBreachLifecycle</th>\n",
       "      <th>DiscoveredInProgress</th>\n",
       "      <th>DaysOfExposure</th>\n",
       "      <th>DaysElapsedBetweenEndAndDiscovery</th>\n",
       "      <th>EndedOnDayDiscovered</th>\n",
       "      <th>DaysElapsedBeforeNotification</th>\n",
       "      <th>DaysOfExposureRange</th>\n",
       "    </tr>\n",
       "  </thead>\n",
       "  <tbody>\n",
       "    <tr>\n",
       "      <th>0</th>\n",
       "      <td>09/20/2017 12:00:00 AM</td>\n",
       "      <td>11/15/2017 12:00:00 AM</td>\n",
       "      <td>Theft or Mistake</td>\n",
       "      <td>09/20/2017 12:00:00 AM</td>\n",
       "      <td>09/20/2017 12:00:00 AM</td>\n",
       "      <td>Western State Hospital</td>\n",
       "      <td>9750</td>\n",
       "      <td>NaN</td>\n",
       "      <td>515</td>\n",
       "      <td>Health</td>\n",
       "      <td>...</td>\n",
       "      <td>0</td>\n",
       "      <td>0</td>\n",
       "      <td>0</td>\n",
       "      <td>0</td>\n",
       "      <td>True</td>\n",
       "      <td>0</td>\n",
       "      <td>NaN</td>\n",
       "      <td>True</td>\n",
       "      <td>56</td>\n",
       "      <td>0</td>\n",
       "    </tr>\n",
       "    <tr>\n",
       "      <th>1</th>\n",
       "      <td>11/15/2016 12:00:00 AM</td>\n",
       "      <td>11/21/2017 12:00:00 AM</td>\n",
       "      <td>Cyberattack</td>\n",
       "      <td>10/13/2016 12:00:00 AM</td>\n",
       "      <td>11/15/2016 12:00:00 AM</td>\n",
       "      <td>Uber Technologies, Inc.</td>\n",
       "      <td>9752</td>\n",
       "      <td>NaN</td>\n",
       "      <td>10888</td>\n",
       "      <td>Business</td>\n",
       "      <td>...</td>\n",
       "      <td>1-99</td>\n",
       "      <td>0</td>\n",
       "      <td>33</td>\n",
       "      <td>33</td>\n",
       "      <td>True</td>\n",
       "      <td>33</td>\n",
       "      <td>NaN</td>\n",
       "      <td>True</td>\n",
       "      <td>371</td>\n",
       "      <td>1-99</td>\n",
       "    </tr>\n",
       "    <tr>\n",
       "      <th>2</th>\n",
       "      <td>NaN</td>\n",
       "      <td>11/27/2017 12:00:00 AM</td>\n",
       "      <td>Cyberattack</td>\n",
       "      <td>10/26/2016 12:00:00 AM</td>\n",
       "      <td>10/19/2017 12:00:00 AM</td>\n",
       "      <td>Bulletproof 360, Inc.</td>\n",
       "      <td>9753</td>\n",
       "      <td>Malware</td>\n",
       "      <td>4077</td>\n",
       "      <td>Business</td>\n",
       "      <td>...</td>\n",
       "      <td>Unknown</td>\n",
       "      <td>NaN</td>\n",
       "      <td>NaN</td>\n",
       "      <td>NaN</td>\n",
       "      <td>False</td>\n",
       "      <td>358</td>\n",
       "      <td>NaN</td>\n",
       "      <td>False</td>\n",
       "      <td>NaN</td>\n",
       "      <td>300-399</td>\n",
       "    </tr>\n",
       "    <tr>\n",
       "      <th>3</th>\n",
       "      <td>09/06/2017 12:00:00 AM</td>\n",
       "      <td>12/01/2017 12:00:00 AM</td>\n",
       "      <td>Unauthorized Access</td>\n",
       "      <td>06/15/2016 12:00:00 AM</td>\n",
       "      <td>11/06/2017 12:00:00 AM</td>\n",
       "      <td>JAM Paper &amp; Envelope</td>\n",
       "      <td>9754</td>\n",
       "      <td>NaN</td>\n",
       "      <td>590</td>\n",
       "      <td>Business</td>\n",
       "      <td>...</td>\n",
       "      <td>500+</td>\n",
       "      <td>61</td>\n",
       "      <td>448</td>\n",
       "      <td>509</td>\n",
       "      <td>True</td>\n",
       "      <td>509</td>\n",
       "      <td>NaN</td>\n",
       "      <td>False</td>\n",
       "      <td>86</td>\n",
       "      <td>500+</td>\n",
       "    </tr>\n",
       "    <tr>\n",
       "      <th>4</th>\n",
       "      <td>10/06/2017 12:00:00 AM</td>\n",
       "      <td>12/11/2017 12:00:00 AM</td>\n",
       "      <td>Cyberattack</td>\n",
       "      <td>07/01/2015 12:00:00 AM</td>\n",
       "      <td>10/06/2017 12:00:00 AM</td>\n",
       "      <td>Combat Brands, LLC</td>\n",
       "      <td>9755</td>\n",
       "      <td>Malware</td>\n",
       "      <td>956</td>\n",
       "      <td>Business</td>\n",
       "      <td>...</td>\n",
       "      <td>500+</td>\n",
       "      <td>0</td>\n",
       "      <td>828</td>\n",
       "      <td>828</td>\n",
       "      <td>True</td>\n",
       "      <td>828</td>\n",
       "      <td>NaN</td>\n",
       "      <td>True</td>\n",
       "      <td>66</td>\n",
       "      <td>500+</td>\n",
       "    </tr>\n",
       "  </tbody>\n",
       "</table>\n",
       "<p>5 rows × 24 columns</p>\n",
       "</div>"
      ],
      "text/plain": [
       "                DateAware           DateSubmitted      DataBreachCause  \\\n",
       "0  09/20/2017 12:00:00 AM  11/15/2017 12:00:00 AM     Theft or Mistake   \n",
       "1  11/15/2016 12:00:00 AM  11/21/2017 12:00:00 AM          Cyberattack   \n",
       "2                     NaN  11/27/2017 12:00:00 AM          Cyberattack   \n",
       "3  09/06/2017 12:00:00 AM  12/01/2017 12:00:00 AM  Unauthorized Access   \n",
       "4  10/06/2017 12:00:00 AM  12/11/2017 12:00:00 AM          Cyberattack   \n",
       "\n",
       "                DateStart                 DateEnd                     Name  \\\n",
       "0  09/20/2017 12:00:00 AM  09/20/2017 12:00:00 AM   Western State Hospital   \n",
       "1  10/13/2016 12:00:00 AM  11/15/2016 12:00:00 AM  Uber Technologies, Inc.   \n",
       "2  10/26/2016 12:00:00 AM  10/19/2017 12:00:00 AM    Bulletproof 360, Inc.   \n",
       "3  06/15/2016 12:00:00 AM  11/06/2017 12:00:00 AM     JAM Paper & Envelope   \n",
       "4  07/01/2015 12:00:00 AM  10/06/2017 12:00:00 AM       Combat Brands, LLC   \n",
       "\n",
       "     Id CyberattackType  WashingtoniansAffected IndustryType  ...  \\\n",
       "0  9750             NaN                     515       Health  ...   \n",
       "1  9752             NaN                   10888     Business  ...   \n",
       "2  9753         Malware                    4077     Business  ...   \n",
       "3  9754             NaN                     590     Business  ...   \n",
       "4  9755         Malware                     956     Business  ...   \n",
       "\n",
       "  BreachLifecycleRange  DaysToContainBreach  DaysToIdentifyBreach  \\\n",
       "0                    0                    0                     0   \n",
       "1                 1-99                    0                    33   \n",
       "2              Unknown                  NaN                   NaN   \n",
       "3                 500+                   61                   448   \n",
       "4                 500+                    0                   828   \n",
       "\n",
       "  DaysBreachLifecycle DiscoveredInProgress  DaysOfExposure  \\\n",
       "0                   0                 True               0   \n",
       "1                  33                 True              33   \n",
       "2                 NaN                False             358   \n",
       "3                 509                 True             509   \n",
       "4                 828                 True             828   \n",
       "\n",
       "   DaysElapsedBetweenEndAndDiscovery  EndedOnDayDiscovered  \\\n",
       "0                                NaN                  True   \n",
       "1                                NaN                  True   \n",
       "2                                NaN                 False   \n",
       "3                                NaN                 False   \n",
       "4                                NaN                  True   \n",
       "\n",
       "   DaysElapsedBeforeNotification  DaysOfExposureRange  \n",
       "0                             56                    0  \n",
       "1                            371                 1-99  \n",
       "2                            NaN              300-399  \n",
       "3                             86                 500+  \n",
       "4                             66                 500+  \n",
       "\n",
       "[5 rows x 24 columns]"
      ]
     },
     "execution_count": 121,
     "metadata": {},
     "output_type": "execute_result"
    }
   ],
   "source": [
    "databreach_df = pd.read_csv('../data/WA_Databreach_20231102.csv')\n",
    "databreach_df.head()"
   ]
  },
  {
   "cell_type": "markdown",
   "metadata": {},
   "source": [
    "### Get Information"
   ]
  },
  {
   "cell_type": "code",
   "execution_count": 122,
   "metadata": {},
   "outputs": [
    {
     "name": "stdout",
     "output_type": "stream",
     "text": [
      "<class 'pandas.core.frame.DataFrame'>\n",
      "RangeIndex: 990 entries, 0 to 989\n",
      "Data columns (total 24 columns):\n",
      " #   Column                             Non-Null Count  Dtype  \n",
      "---  ------                             --------------  -----  \n",
      " 0   DateAware                          966 non-null    object \n",
      " 1   DateSubmitted                      990 non-null    object \n",
      " 2   DataBreachCause                    990 non-null    object \n",
      " 3   DateStart                          862 non-null    object \n",
      " 4   DateEnd                            804 non-null    object \n",
      " 5   Name                               990 non-null    object \n",
      " 6   Id                                 990 non-null    int64  \n",
      " 7   CyberattackType                    649 non-null    object \n",
      " 8   WashingtoniansAffected             958 non-null    float64\n",
      " 9   IndustryType                       990 non-null    object \n",
      " 10  BusinessType                       467 non-null    object \n",
      " 11  Year                               990 non-null    int64  \n",
      " 12  YearText                           990 non-null    int64  \n",
      " 13  WashingtoniansAffectedRange        990 non-null    object \n",
      " 14  BreachLifecycleRange               990 non-null    object \n",
      " 15  DaysToContainBreach                787 non-null    float64\n",
      " 16  DaysToIdentifyBreach               842 non-null    float64\n",
      " 17  DaysBreachLifecycle                769 non-null    float64\n",
      " 18  DiscoveredInProgress               990 non-null    bool   \n",
      " 19  DaysOfExposure                     786 non-null    float64\n",
      " 20  DaysElapsedBetweenEndAndDiscovery  399 non-null    float64\n",
      " 21  EndedOnDayDiscovered               990 non-null    bool   \n",
      " 22  DaysElapsedBeforeNotification      966 non-null    float64\n",
      " 23  DaysOfExposureRange                990 non-null    object \n",
      "dtypes: bool(2), float64(7), int64(3), object(12)\n",
      "memory usage: 172.2+ KB\n"
     ]
    }
   ],
   "source": [
    "databreach_df.info()"
   ]
  },
  {
   "cell_type": "markdown",
   "metadata": {},
   "source": [
    "### Clean Dataframe"
   ]
  },
  {
   "cell_type": "markdown",
   "metadata": {},
   "source": [
    "Steps:\n",
    "1. Grab only necessary columns\n",
    "2. Change DatabreachCause:Cyberattack, CyberattackType:NaN to DatabreachCause:Cyberattack, CyberattackType:Unreported\n",
    "3. Adjust datetime columns"
   ]
  },
  {
   "cell_type": "code",
   "execution_count": 123,
   "metadata": {},
   "outputs": [],
   "source": [
    "def to_datetime_date_helpfunction(dataframe):\n",
    "            '''\n",
    "            Inputs: dataframe\n",
    "\n",
    "            Outputs: dataframe with all values in columns that have 'date' in their \n",
    "                                                        name as datetime.date objects    \n",
    "            '''\n",
    "\n",
    "            colsarray = dataframe.columns.values\n",
    "\n",
    "            for x in colsarray:\n",
    "                if 'Date' in x:\n",
    "                    dataframe[f'{x}'] = pd.to_datetime(dataframe[f'{x}']).dt.date\n",
    "            return"
   ]
  },
  {
   "cell_type": "code",
   "execution_count": 124,
   "metadata": {},
   "outputs": [
    {
     "name": "stderr",
     "output_type": "stream",
     "text": [
      "C:\\Users\\RGBMonster\\AppData\\Local\\Temp\\ipykernel_18600\\3979626997.py:6: SettingWithCopyWarning: \n",
      "A value is trying to be set on a copy of a slice from a DataFrame\n",
      "\n",
      "See the caveats in the documentation: https://pandas.pydata.org/pandas-docs/stable/user_guide/indexing.html#returning-a-view-versus-a-copy\n",
      "  cleandf.loc[:, 'CyberattackType'][(cleandf['DataBreachCause'] == 'Cyberattack')\n",
      "C:\\Users\\RGBMonster\\AppData\\Local\\Temp\\ipykernel_18600\\467911785.py:13: SettingWithCopyWarning: \n",
      "A value is trying to be set on a copy of a slice from a DataFrame.\n",
      "Try using .loc[row_indexer,col_indexer] = value instead\n",
      "\n",
      "See the caveats in the documentation: https://pandas.pydata.org/pandas-docs/stable/user_guide/indexing.html#returning-a-view-versus-a-copy\n",
      "  dataframe[f'{x}'] = pd.to_datetime(dataframe[f'{x}']).dt.date\n"
     ]
    },
    {
     "data": {
      "text/html": [
       "<div>\n",
       "<style scoped>\n",
       "    .dataframe tbody tr th:only-of-type {\n",
       "        vertical-align: middle;\n",
       "    }\n",
       "\n",
       "    .dataframe tbody tr th {\n",
       "        vertical-align: top;\n",
       "    }\n",
       "\n",
       "    .dataframe thead th {\n",
       "        text-align: right;\n",
       "    }\n",
       "</style>\n",
       "<table border=\"1\" class=\"dataframe\">\n",
       "  <thead>\n",
       "    <tr style=\"text-align: right;\">\n",
       "      <th></th>\n",
       "      <th>DateStart</th>\n",
       "      <th>DataBreachCause</th>\n",
       "      <th>CyberattackType</th>\n",
       "      <th>WashingtoniansAffected</th>\n",
       "      <th>IndustryType</th>\n",
       "      <th>BusinessType</th>\n",
       "    </tr>\n",
       "  </thead>\n",
       "  <tbody>\n",
       "    <tr>\n",
       "      <th>0</th>\n",
       "      <td>2017-09-20</td>\n",
       "      <td>Theft or Mistake</td>\n",
       "      <td>NaN</td>\n",
       "      <td>515</td>\n",
       "      <td>Health</td>\n",
       "      <td>NaN</td>\n",
       "    </tr>\n",
       "    <tr>\n",
       "      <th>1</th>\n",
       "      <td>2016-10-13</td>\n",
       "      <td>Cyberattack</td>\n",
       "      <td>Unreported</td>\n",
       "      <td>10888</td>\n",
       "      <td>Business</td>\n",
       "      <td>Transportation</td>\n",
       "    </tr>\n",
       "    <tr>\n",
       "      <th>2</th>\n",
       "      <td>2016-10-26</td>\n",
       "      <td>Cyberattack</td>\n",
       "      <td>Malware</td>\n",
       "      <td>4077</td>\n",
       "      <td>Business</td>\n",
       "      <td>Consumable</td>\n",
       "    </tr>\n",
       "    <tr>\n",
       "      <th>3</th>\n",
       "      <td>2016-06-15</td>\n",
       "      <td>Unauthorized Access</td>\n",
       "      <td>NaN</td>\n",
       "      <td>590</td>\n",
       "      <td>Business</td>\n",
       "      <td>Manufacturing</td>\n",
       "    </tr>\n",
       "    <tr>\n",
       "      <th>4</th>\n",
       "      <td>2015-07-01</td>\n",
       "      <td>Cyberattack</td>\n",
       "      <td>Malware</td>\n",
       "      <td>956</td>\n",
       "      <td>Business</td>\n",
       "      <td>Fitness</td>\n",
       "    </tr>\n",
       "    <tr>\n",
       "      <th>...</th>\n",
       "      <td>...</td>\n",
       "      <td>...</td>\n",
       "      <td>...</td>\n",
       "      <td>...</td>\n",
       "      <td>...</td>\n",
       "      <td>...</td>\n",
       "    </tr>\n",
       "    <tr>\n",
       "      <th>985</th>\n",
       "      <td>2023-05-30</td>\n",
       "      <td>Cyberattack</td>\n",
       "      <td>Other</td>\n",
       "      <td>5886</td>\n",
       "      <td>Health</td>\n",
       "      <td>NaN</td>\n",
       "    </tr>\n",
       "    <tr>\n",
       "      <th>986</th>\n",
       "      <td>2022-08-01</td>\n",
       "      <td>Cyberattack</td>\n",
       "      <td>Other</td>\n",
       "      <td>2319</td>\n",
       "      <td>Business</td>\n",
       "      <td>Software</td>\n",
       "    </tr>\n",
       "    <tr>\n",
       "      <th>987</th>\n",
       "      <td>2023-01-12</td>\n",
       "      <td>Cyberattack</td>\n",
       "      <td>Ransomware</td>\n",
       "      <td>805</td>\n",
       "      <td>Business</td>\n",
       "      <td>Clothing</td>\n",
       "    </tr>\n",
       "    <tr>\n",
       "      <th>988</th>\n",
       "      <td>2023-05-29</td>\n",
       "      <td>Cyberattack</td>\n",
       "      <td>Other</td>\n",
       "      <td>978</td>\n",
       "      <td>Business</td>\n",
       "      <td>Other</td>\n",
       "    </tr>\n",
       "    <tr>\n",
       "      <th>989</th>\n",
       "      <td>2021-10-27</td>\n",
       "      <td>Unauthorized Access</td>\n",
       "      <td>NaN</td>\n",
       "      <td>7518</td>\n",
       "      <td>Finance</td>\n",
       "      <td>NaN</td>\n",
       "    </tr>\n",
       "  </tbody>\n",
       "</table>\n",
       "<p>990 rows × 6 columns</p>\n",
       "</div>"
      ],
      "text/plain": [
       "      DateStart      DataBreachCause CyberattackType  WashingtoniansAffected  \\\n",
       "0    2017-09-20     Theft or Mistake             NaN                     515   \n",
       "1    2016-10-13          Cyberattack      Unreported                   10888   \n",
       "2    2016-10-26          Cyberattack         Malware                    4077   \n",
       "3    2016-06-15  Unauthorized Access             NaN                     590   \n",
       "4    2015-07-01          Cyberattack         Malware                     956   \n",
       "..          ...                  ...             ...                     ...   \n",
       "985  2023-05-30          Cyberattack           Other                    5886   \n",
       "986  2022-08-01          Cyberattack           Other                    2319   \n",
       "987  2023-01-12          Cyberattack      Ransomware                     805   \n",
       "988  2023-05-29          Cyberattack           Other                     978   \n",
       "989  2021-10-27  Unauthorized Access             NaN                    7518   \n",
       "\n",
       "    IndustryType    BusinessType  \n",
       "0         Health             NaN  \n",
       "1       Business  Transportation  \n",
       "2       Business      Consumable  \n",
       "3       Business   Manufacturing  \n",
       "4       Business         Fitness  \n",
       "..           ...             ...  \n",
       "985       Health             NaN  \n",
       "986     Business        Software  \n",
       "987     Business        Clothing  \n",
       "988     Business           Other  \n",
       "989      Finance             NaN  \n",
       "\n",
       "[990 rows x 6 columns]"
      ]
     },
     "execution_count": 124,
     "metadata": {},
     "output_type": "execute_result"
    }
   ],
   "source": [
    "# Dataframe Cleaning\n",
    "\n",
    "# Step 1\n",
    "cleandf = databreach_df[['DateStart', 'DataBreachCause', 'CyberattackType', 'WashingtoniansAffected', 'IndustryType', 'BusinessType']]\n",
    "# Step 2\n",
    "cleandf.loc[:, 'CyberattackType'][(cleandf['DataBreachCause'] == 'Cyberattack') \n",
    "                                                & (cleandf['CyberattackType'].isnull())] = 'Unreported'\n",
    "# Step 3\n",
    "to_datetime_date_helpfunction(cleandf)\n",
    "\n",
    "cleandf"
   ]
  },
  {
   "cell_type": "markdown",
   "metadata": {},
   "source": [
    "## Functions for exploring df and tests:\n",
    "***"
   ]
  },
  {
   "cell_type": "markdown",
   "metadata": {},
   "source": [
    "### Functions:"
   ]
  },
  {
   "cell_type": "code",
   "execution_count": 125,
   "metadata": {},
   "outputs": [],
   "source": [
    "def bootstrap(data, num_bootstrap_samples=10000):\n",
    "   '''\n",
    "   Inputs: Data of type array, series, list; Numerical\n",
    "\n",
    "   Outputs: A list of bootstrap samples of data\n",
    "   '''\n",
    "   bootstrap_samples = []\n",
    "\n",
    "   for i in range(num_bootstrap_samples):\n",
    "      bootstrap_samples.append(choices(list(data), k=len(data)))\n",
    "\n",
    "   return bootstrap_samples"
   ]
  },
  {
   "cell_type": "code",
   "execution_count": 126,
   "metadata": {},
   "outputs": [],
   "source": [
    "def get_rate(dataframe, startdate, enddate, column, type):\n",
    "    '''\n",
    "    \n",
    "    '''\n",
    "    date_filtered = dataframe[(dataframe['DateStart'] > startdate) & (dataframe['DateStart'] < enddate)]\n",
    "    grouped = date_filtered[[(f'{column}'),'WashingtoniansAffected']].groupby(f'{column}').sum()\n",
    "    days = (enddate - startdate).days\n",
    "    return days (grouped.loc[f'{type}'][0])/days"
   ]
  },
  {
   "cell_type": "code",
   "execution_count": 127,
   "metadata": {},
   "outputs": [],
   "source": [
    "def get_bootstrapped_rates(dataframe, startdate, enddate, column, category, samples=10000):\n",
    "    '''\n",
    "    \n",
    "    '''\n",
    "    rates = []\n",
    "    date_filtered = dataframe[(dataframe['DateStart'] > startdate) & (dataframe['DateStart'] < enddate)]\n",
    "    column_selected = date_filtered[[(f'{column}'),'WashingtoniansAffected']]\n",
    "    category_selected = column_selected[column_selected[f'{column}'] == category]\n",
    "    category_selected = category_selected.dropna()\n",
    "    bootstrap_affected = bootstrap(category_selected['WashingtoniansAffected'], samples)\n",
    "    days = (enddate - startdate).days\n",
    "    for x in bootstrap_affected:\n",
    "        rates.append(sum(x)/days)\n",
    "    return rates"
   ]
  },
  {
   "cell_type": "code",
   "execution_count": 128,
   "metadata": {},
   "outputs": [],
   "source": [
    "def to_season(date):\n",
    "    \n",
    "    winter = ['Winter', 12, 1, 2]\n",
    "    spring = ['Spring', 3, 4, 5]\n",
    "    summer = ['Summer', 6, 7, 8]\n",
    "    fall = ['Fall', 9, 10, 11]\n",
    "    seasons = [winter, spring, summer, fall]\n",
    "    for season in seasons:\n",
    "        for month in season:\n",
    "            if date.month == month:\n",
    "                return season[0]"
   ]
  },
  {
   "cell_type": "code",
   "execution_count": 129,
   "metadata": {},
   "outputs": [],
   "source": [
    "def rmse(true, predicted):\n",
    "    mse = np.square(np.subtract(true, predicted)).mean()\n",
    "    rmse = math.sqrt(mse)\n",
    "    return rmse"
   ]
  },
  {
   "cell_type": "code",
   "execution_count": 130,
   "metadata": {},
   "outputs": [],
   "source": [
    "def cross_val(X_train, y_train, k=5):\n",
    "    kf = KFold(n_splits = k, shuffle=True, random_state = None)\n",
    "    rmse_list = []\n",
    "    i = 1\n",
    "\n",
    "    for train_index, test_index in kf.split(X_train):\n",
    "        X_train_fold, X_test_fold = X_train.iloc[train_index], X_train.iloc[test_index]\n",
    "        y_train_fold, y_test_fold = y_train.iloc[train_index], y_train.iloc[test_index]\n",
    "        model = LinearRegression()\n",
    "        results = model.fit(X_train_fold, y_train_fold)\n",
    "        predictions = results.predict(X_test_fold)\n",
    "        print(f'train_fold{i} has an rmse of:{rmse(y_test_fold, predictions)}')\n",
    "        i+=1\n",
    "        rmse_list.append(rmse(y_test_fold, predictions))\n",
    "\n",
    "    print(f'The mean rmse is: {np.mean(rmse_list)}')    "
   ]
  },
  {
   "cell_type": "code",
   "execution_count": 131,
   "metadata": {},
   "outputs": [],
   "source": [
    "def test_hom_variance(means1, means2):\n",
    "\n",
    "    hom_variance = None\n",
    "    variance_ratio = np.std(means1)/np.std(means2)\n",
    "    if variance_ratio > 3:\n",
    "        hom_variance = False\n",
    "    else:\n",
    "        hom_variance = True\n",
    "\n",
    "    return hom_variance"
   ]
  },
  {
   "cell_type": "code",
   "execution_count": 132,
   "metadata": {},
   "outputs": [],
   "source": [
    "def plot_dist(category1, category2, means1, means2, bins1=10, bins2=10):\n",
    "    fig,ax = plt.subplots()\n",
    "\n",
    "    ax.hist(means1, bins=bins1, color='orange')\n",
    "    ax.hist(means2, bins=bins2, color='green')\n",
    "\n",
    "    ax.set_xlabel('Number affected')\n",
    "    ax.set_ylabel('Samples')\n",
    "    ax.legend([category1, category2])\n",
    "\n",
    "    fig.savefig(f'../images/hypoth_test:{category1}&{category2}(individual)', bbox_inches='tight')"
   ]
  },
  {
   "cell_type": "code",
   "execution_count": 133,
   "metadata": {},
   "outputs": [],
   "source": [
    "def hypothesis_test(dataframe, column, category1, category2, samples=10000, startdate = None, enddate=None, rate='n', alt='two-sided'):\n",
    "        '''\n",
    "        Inputs: pandas dataframe, 1 column and 2 categories that belong to said\n",
    "                column to compare, number of resamples for bootstrap, start and end\n",
    "                date for comparing rates, rate-option for comparing rates,\n",
    "                alt for alt hypothesis in t-test.\n",
    "        \n",
    "        Outputs: t-test results and saved png dataframe image to images folder\n",
    "        '''\n",
    "        if rate == 'n':\n",
    "                cat1 = dataframe[dataframe[f'{column}'] == f'{category1}']['WashingtoniansAffected']\n",
    "                cat1 = cat1.dropna()\n",
    "                cat2 = dataframe[dataframe[f'{column}'] == f'{category2}']['WashingtoniansAffected']\n",
    "                cat2 = cat2.dropna()\n",
    "\n",
    "                boot_cat1 = bootstrap(cat1, samples)\n",
    "                boot_cat2 = bootstrap(cat2, samples)\n",
    "\n",
    "                boot_cat1_means = []\n",
    "                boot_cat2_means = []\n",
    "\n",
    "                for boot in boot_cat1:\n",
    "                        boot_cat1_means.append(np.mean(boot))\n",
    "\n",
    "                for boot in boot_cat2:\n",
    "                        boot_cat2_means.append(np.mean(boot))\n",
    "  \n",
    "                hom_variance = test_hom_variance(boot_cat1_means, boot_cat2_means)\n",
    "\n",
    "                plot_dist(category1, category2, boot_cat1_means, boot_cat2_means)\n",
    "\n",
    "                return st.ttest_ind(boot_cat1_means, boot_cat2_means, equal_var=hom_variance, alternative=alt)\n",
    "\n",
    "        else:\n",
    "                cat1_rates = get_bootstrapped_rates(dataframe, startdate, enddate, column, category1, samples)\n",
    "                cat2_rates = get_bootstrapped_rates(dataframe, startdate, enddate, column, category2, samples)\n",
    "\n",
    "                hom_variance = test_hom_variance(cat1_rates, cat2_rates)\n",
    "\n",
    "                plot_dist(category1, category2, cat1_rates, cat2_rates)\n",
    "\n",
    "                return st.ttest_ind(cat1_rates, cat2_rates, equal_var=hom_variance, alternative=alt)"
   ]
  },
  {
   "cell_type": "code",
   "execution_count": null,
   "metadata": {},
   "outputs": [],
   "source": [
    "def linear_regression(dataframe):\n",
    "    grouped_years = dataframe[['ActualYears', 'WashingtoniansAffected']].groupby('ActualYears')\n",
    "    num_affected = grouped_years.sum()\n",
    "    num_incidents = grouped_years.count()\n",
    "    num_incidents['Number Of Incidents'] = num_incidents['WashingtoniansAffected']\n",
    "    num_incidents.drop('WashingtoniansAffected', axis=1, inplace=True)\n",
    "\n",
    "    rate_over_time = (grouped_years.sum()/grouped_years.count())\n",
    "\n",
    "    fig, ax = plt.subplots()\n",
    "    ax.plot(num_affected)\n",
    "    ax.set_title('Washingtonians Affected By Year')\n",
    "    ax.set_ylabel('Number Affected(millions)')\n",
    "    ax.set_xlabel('Years')\n",
    "    fig.savefig(f'../images/affectedbyyear', bbox_inches='tight')\n",
    "\n",
    "    fig, ax = plt.subplots()\n",
    "    ax.plot(num_incidents)\n",
    "    ax.set_title('Number of Incidents by Year')\n",
    "    ax.set_ylabel('Number of Incidents')\n",
    "    ax.set_xlabel('Years')\n",
    "    fig.savefig(f'../images/incidentsbyyear', bbox_inches='tight')\n",
    "\n",
    "    fig, ax = plt.subplots()\n",
    "    ax.plot(rate_over_time)\n",
    "    ax.set_title('Number Affected Per Incident by Year')\n",
    "    ax.set_ylabel('Rates')\n",
    "    ax.set_xlabel('Years')\n",
    "    fig.savefig(f'../images/ratesbyyear', bbox_inches='tight')\n",
    "\n",
    "    X = num_incidents['Number Of Incidents']\n",
    "    y = num_affected['WashingtoniansAffected']\n",
    "\n",
    "    X_train, X_test, y_train, y_test = train_test_split(X, y, test_size=0.05)\n",
    "\n",
    "    model = LinearRegression()\n",
    "    model.fit(X_train,y_train)\n",
    "\n",
    "    return model"
   ]
  },
  {
   "cell_type": "code",
   "execution_count": null,
   "metadata": {},
   "outputs": [],
   "source": [
    "def seasons(dataframe):\n",
    "    grouped_seasons = dataframe[['Season','WashingtoniansAffected']].groupby('Season')\n",
    "    grouped_seasons.sum()\n",
    "    grouped_seasons.sum()['WashingtoniansAffected']\n",
    "\n",
    "    fig, ax = plt.subplots()\n",
    "    ax.pie(grouped_seasons.sum()['WashingtoniansAffected'], labels=grouped_seasons.sum()['WashingtoniansAffected'].index, autopct='%1.1f%%')\n",
    "    fig.savefig(f'../images/seasons', bbox_inches='tight')"
   ]
  },
  {
   "cell_type": "code",
   "execution_count": null,
   "metadata": {},
   "outputs": [],
   "source": [
    "def create_display_model(dataframe):\n",
    "    # getting relevant info\n",
    "    grouped_years = dataframe[['ActualYears', 'WashingtoniansAffected']].groupby('ActualYears')\n",
    "    # y\n",
    "    num_affected = grouped_years.sum()\n",
    "    # X\n",
    "    num_incidents = grouped_years.count()\n",
    "    num_incidents['Number Of Incidents'] = num_incidents['WashingtoniansAffected']\n",
    "    num_incidents.drop('WashingtoniansAffected', axis=1, inplace=True)\n",
    "    # declaring X and y for model\n",
    "    X = num_incidents['Number Of Incidents']\n",
    "    y = num_affected['WashingtoniansAffected']\n",
    "    # creating model\n",
    "    model = LinearRegression()\n",
    "    model.fit(X_train,y_train)\n",
    "    # put data back together for display\n",
    "    num_affected['Num_incidents'] = num_incidents['Number Of Incidents']\n",
    "    # display model\n",
    "    # create fig, ax object and set ax to the regplot to allow saving\n",
    "    fig, ax = plt.subplots()\n",
    "    model_display = sns.regplot(data = num_affected, x='Num_incidents', y='WashingtoniansAffected', x_estimator=model)\n",
    "    ax = model_display\n",
    "    ax.set_title('Model Performance')\n",
    "    # save\n",
    "    fig.savefig('../images/model')"
   ]
  },
  {
   "cell_type": "markdown",
   "metadata": {},
   "source": [
    "### Tests:"
   ]
  },
  {
   "cell_type": "code",
   "execution_count": 134,
   "metadata": {},
   "outputs": [
    {
     "data": {
      "text/plain": [
       "'Fall'"
      ]
     },
     "execution_count": 134,
     "metadata": {},
     "output_type": "execute_result"
    }
   ],
   "source": [
    "test_date = dt.date(2020, 9, 4)\n",
    "to_season(test_date)"
   ]
  },
  {
   "cell_type": "markdown",
   "metadata": {},
   "source": [
    "## Brainstorming\n",
    "***"
   ]
  },
  {
   "cell_type": "markdown",
   "metadata": {},
   "source": [
    "### Hypothesis Tests:"
   ]
  },
  {
   "cell_type": "markdown",
   "metadata": {},
   "source": [
    "#### Industry Types"
   ]
  },
  {
   "cell_type": "markdown",
   "metadata": {},
   "source": [
    "Government vs. Non-Profit/Charity\n",
    "\n",
    "H0: Government mean affected <= Non-Profit/Charity mean affected\n",
    "\n",
    "H1: Government mean affected > Non-Profit/Charity mean affected"
   ]
  },
  {
   "cell_type": "code",
   "execution_count": 135,
   "metadata": {},
   "outputs": [],
   "source": [
    "nonprofit_affected = cleandf[cleandf['IndustryType'] == 'Non-Profit/Charity']['WashingtoniansAffected']\n",
    "nonprofit_affected = nonprofit_affected.dropna()\n",
    "government_affected = cleandf[cleandf['IndustryType'] == 'Government']['WashingtoniansAffected']\n",
    "government_affected = government_affected.dropna()"
   ]
  },
  {
   "cell_type": "code",
   "execution_count": 136,
   "metadata": {},
   "outputs": [],
   "source": [
    "# bootstrap samples and get means for each bootstrap\n",
    "boot_gov_affected = bootstrap(government_affected, 5000)\n",
    "gov_affected_bootmeans = []\n",
    "\n",
    "for x in boot_gov_affected:\n",
    "    gov_affected_bootmeans.append(np.mean(x))\n",
    "\n",
    "# np.mean(gov_affected_bootmeans)\n",
    "# fig,ax=plt.subplots()\n",
    "# ax.hist(gov_affected_bootmeans, bins=12)\n",
    "# ax.axvline(np.mean(gov_affected_bootmeans), color='r')"
   ]
  },
  {
   "cell_type": "code",
   "execution_count": 137,
   "metadata": {},
   "outputs": [],
   "source": [
    "# bootstrap samples and get means for each bootstrap\n",
    "boot_nonprofit_affected = bootstrap(nonprofit_affected, 5000)\n",
    "nonprofit_affected_bootmeans = []\n",
    "\n",
    "for x in boot_nonprofit_affected:\n",
    "    nonprofit_affected_bootmeans.append(np.mean(x))\n",
    "\n",
    "# np.mean(nonprofit_affected_bootmeans)\n",
    "# fig,ax=plt.subplots()\n",
    "# ax.hist(nonprofit_affected_bootmeans, bins=20)\n",
    "# ax.axvline(np.mean(nonprofit_affected_bootmeans), color='r')"
   ]
  },
  {
   "cell_type": "code",
   "execution_count": 138,
   "metadata": {},
   "outputs": [
    {
     "data": {
      "image/png": "[encoded data removed]",
      "text/plain": [
       "<Figure size 640x480 with 1 Axes>"
      ]
     },
     "metadata": {},
     "output_type": "display_data"
    }
   ],
   "source": [
    "fig,ax=plt.subplots()\n",
    "\n",
    "ax.hist(gov_affected_bootmeans, bins=12, color='orange')\n",
    "# ax.axvline(np.mean(gov_affected_bootmeans), color='r')\n",
    "\n",
    "ax.hist(nonprofit_affected_bootmeans, bins=20, color='green')\n",
    "# ax.axvline(np.mean(nonprofit_affected_bootmeans), color='b')\n",
    "\n",
    "ax.set_xlabel('Number affected')\n",
    "ax.set_ylabel('Samples')\n",
    "\n",
    "ax.legend(['Government', 'NonProfit'])\n",
    "fig.savefig(f'../images/data_stats', bbox_inches='tight')"
   ]
  },
  {
   "cell_type": "code",
   "execution_count": 139,
   "metadata": {},
   "outputs": [
    {
     "data": {
      "text/plain": [
       "4.557646783291647"
      ]
     },
     "execution_count": 139,
     "metadata": {},
     "output_type": "execute_result"
    }
   ],
   "source": [
    "np.std(gov_affected_bootmeans)/np.std(nonprofit_affected_bootmeans)"
   ]
  },
  {
   "cell_type": "code",
   "execution_count": 140,
   "metadata": {},
   "outputs": [
    {
     "data": {
      "text/plain": [
       "Ttest_indResult(statistic=86.56161369123552, pvalue=0.0)"
      ]
     },
     "execution_count": 140,
     "metadata": {},
     "output_type": "execute_result"
    }
   ],
   "source": [
    "# ttest\n",
    "st.ttest_ind(gov_affected_bootmeans, nonprofit_affected_bootmeans, equal_var=False, alternative='greater')"
   ]
  },
  {
   "cell_type": "markdown",
   "metadata": {},
   "source": [
    "#### Cyberattack Types"
   ]
  },
  {
   "cell_type": "markdown",
   "metadata": {},
   "source": [
    "Phishing vs. Malware\n",
    "\n",
    "H0: Phishing mean Affected <= Malware mean affected\n",
    "\n",
    "H1: Phishing mean Affected > Malware mean affected"
   ]
  },
  {
   "cell_type": "code",
   "execution_count": null,
   "metadata": {},
   "outputs": [],
   "source": []
  },
  {
   "cell_type": "markdown",
   "metadata": {},
   "source": [
    "#### Rates"
   ]
  },
  {
   "cell_type": "markdown",
   "metadata": {},
   "source": [
    "Government vs. Non-Profit/Charity\n",
    "\n",
    "H0: Government mean rate >= Non-Profit/Charity mean rate\n",
    "\n",
    "H1: Government mean rate < Non-Profit/Charity mean rate"
   ]
  },
  {
   "cell_type": "markdown",
   "metadata": {},
   "source": [
    "Steps\n",
    "\n",
    "1. Filter dates(start date), start and end\n",
    "2. calculate number of days\n",
    "3. pick categories\n",
    "4. bootstrap\n",
    "5. divide sum(number affected) by number of days\n",
    "6. compare means of distribution of rates for chosen categories\n",
    "7. answer hypothesis"
   ]
  },
  {
   "cell_type": "code",
   "execution_count": 141,
   "metadata": {},
   "outputs": [
    {
     "data": {
      "text/plain": [
       "34.24586281407035"
      ]
     },
     "execution_count": 141,
     "metadata": {},
     "output_type": "execute_result"
    }
   ],
   "source": [
    "start = dt.date(2018,1,1)\n",
    "end = dt.date(2023,12,30)\n",
    "gov_rates = get_bootstrapped_rates(cleandf, start, end, 'IndustryType', 'Government', 10000)\n",
    "np.mean(gov_rates)"
   ]
  },
  {
   "cell_type": "code",
   "execution_count": 142,
   "metadata": {},
   "outputs": [
    {
     "data": {
      "text/plain": [
       "1333.1975323435358"
      ]
     },
     "execution_count": 142,
     "metadata": {},
     "output_type": "execute_result"
    }
   ],
   "source": [
    "nonprof_rates = get_bootstrapped_rates(cleandf, start, end, 'IndustryType', 'Non-Profit/Charity', 10000)\n",
    "np.mean(nonprof_rates)"
   ]
  },
  {
   "cell_type": "code",
   "execution_count": 143,
   "metadata": {},
   "outputs": [
    {
     "data": {
      "text/plain": [
       "0.023564182762713236"
      ]
     },
     "execution_count": 143,
     "metadata": {},
     "output_type": "execute_result"
    }
   ],
   "source": [
    "np.std(gov_rates)/np.std(nonprof_rates)"
   ]
  },
  {
   "cell_type": "code",
   "execution_count": 144,
   "metadata": {},
   "outputs": [
    {
     "data": {
      "text/plain": [
       "Ttest_indResult(statistic=-248.83717876041484, pvalue=0.0)"
      ]
     },
     "execution_count": 144,
     "metadata": {},
     "output_type": "execute_result"
    }
   ],
   "source": [
    "# ttest\n",
    "st.ttest_ind(gov_rates, nonprof_rates, equal_var=True, alternative='less')"
   ]
  },
  {
   "cell_type": "code",
   "execution_count": 145,
   "metadata": {},
   "outputs": [
    {
     "data": {
      "text/plain": [
       "<matplotlib.legend.Legend at 0x20e9d8162d0>"
      ]
     },
     "execution_count": 145,
     "metadata": {},
     "output_type": "execute_result"
    },
    {
     "data": {
      "image/png": "[encoded data removed]",
      "text/plain": [
       "<Figure size 640x480 with 1 Axes>"
      ]
     },
     "metadata": {},
     "output_type": "display_data"
    }
   ],
   "source": [
    "fig,ax=plt.subplots()\n",
    "\n",
    "ax.hist(gov_rates, bins=12, color='orange')\n",
    "# ax.axvline(np.mean(gov_rates), color='r')\n",
    "\n",
    "ax.hist(nonprof_rates, bins=20, color='green')\n",
    "# ax.axvline(np.mean(nonprof_rates), color='b')\n",
    "\n",
    "ax.set_xlabel('Rates')\n",
    "ax.set_ylabel('Samples')\n",
    "\n",
    "ax.legend(['Government', 'NonProfit'])\n",
    "# fig.savefig(f'../images/data_stats', bbox_inches='tight')"
   ]
  },
  {
   "cell_type": "markdown",
   "metadata": {},
   "source": [
    "### Linear Regressions:"
   ]
  },
  {
   "cell_type": "markdown",
   "metadata": {},
   "source": [
    "#### Affected Rate By Year"
   ]
  },
  {
   "cell_type": "code",
   "execution_count": 147,
   "metadata": {},
   "outputs": [
    {
     "name": "stderr",
     "output_type": "stream",
     "text": [
      "C:\\Users\\RGBMonster\\AppData\\Local\\Temp\\ipykernel_18600\\719847916.py:1: SettingWithCopyWarning: \n",
      "A value is trying to be set on a copy of a slice from a DataFrame.\n",
      "Try using .loc[row_indexer,col_indexer] = value instead\n",
      "\n",
      "See the caveats in the documentation: https://pandas.pydata.org/pandas-docs/stable/user_guide/indexing.html#returning-a-view-versus-a-copy\n",
      "  cleandf['ActualYears'] = [x.year for x in cleandf['DateStart']]\n"
     ]
    }
   ],
   "source": [
    "cleandf['ActualYears'] = [x.year for x in cleandf['DateStart']]"
   ]
  },
  {
   "cell_type": "code",
   "execution_count": 178,
   "metadata": {},
   "outputs": [],
   "source": [
    "# number of total affected per year\n",
    "grouped_years = cleandf[['ActualYears', 'WashingtoniansAffected']].groupby('ActualYears')\n",
    "# grouped_years.sum().plot()"
   ]
  },
  {
   "cell_type": "code",
   "execution_count": 179,
   "metadata": {},
   "outputs": [],
   "source": [
    "# number of incidents per year\n",
    "# grouped_years.count().plot()"
   ]
  },
  {
   "cell_type": "code",
   "execution_count": 180,
   "metadata": {},
   "outputs": [],
   "source": [
    "# Number affected per incident rate\n",
    "# (grouped_years.sum()/grouped_years.count()).plot()"
   ]
  },
  {
   "cell_type": "markdown",
   "metadata": {},
   "source": [
    "2017 was another record year for cybercrime. According to the Online Trust Alliance (OTA), the number of cybersecurity incidents nearly doubled from the previous year.\n",
    "\n",
    "The relationship here suggests that the affected per incident rate undergoes regular biannual fluctuations, which according to outside research is associated with the competing development between attack and defense vectors."
   ]
  },
  {
   "cell_type": "markdown",
   "metadata": {},
   "source": [
    "Can we use the count to predict the number affected? Will the number of incidents in a given year tell us what to expect?"
   ]
  },
  {
   "cell_type": "code",
   "execution_count": 181,
   "metadata": {},
   "outputs": [],
   "source": [
    "num_affected = grouped_years.sum()"
   ]
  },
  {
   "cell_type": "code",
   "execution_count": 182,
   "metadata": {},
   "outputs": [],
   "source": [
    "num_incidents = grouped_years.count()\n",
    "num_incidents['Number Of Incidents'] = num_incidents['WashingtoniansAffected']\n",
    "num_incidents.drop('WashingtoniansAffected', axis=1, inplace=True)"
   ]
  },
  {
   "cell_type": "code",
   "execution_count": 154,
   "metadata": {},
   "outputs": [],
   "source": [
    "X = num_incidents['Number Of Incidents']"
   ]
  },
  {
   "cell_type": "code",
   "execution_count": 155,
   "metadata": {},
   "outputs": [],
   "source": [
    "y = num_affected['WashingtoniansAffected']"
   ]
  },
  {
   "cell_type": "code",
   "execution_count": 156,
   "metadata": {},
   "outputs": [
    {
     "name": "stderr",
     "output_type": "stream",
     "text": [
      "c:\\Users\\RGBMonster\\anaconda3\\Lib\\site-packages\\scipy\\stats\\_stats_py.py:1736: UserWarning: kurtosistest only valid for n>=20 ... continuing anyway, n=14\n",
      "  warnings.warn(\"kurtosistest only valid for n>=20 ... continuing \"\n"
     ]
    },
    {
     "data": {
      "text/html": [
       "<table class=\"simpletable\">\n",
       "<caption>OLS Regression Results</caption>\n",
       "<tr>\n",
       "  <th>Dep. Variable:</th>    <td>WashingtoniansAffected</td> <th>  R-squared:         </th> <td>   0.767</td>\n",
       "</tr>\n",
       "<tr>\n",
       "  <th>Model:</th>                      <td>OLS</td>          <th>  Adj. R-squared:    </th> <td>   0.748</td>\n",
       "</tr>\n",
       "<tr>\n",
       "  <th>Method:</th>                <td>Least Squares</td>     <th>  F-statistic:       </th> <td>   39.52</td>\n",
       "</tr>\n",
       "<tr>\n",
       "  <th>Date:</th>                <td>Tue, 14 Nov 2023</td>    <th>  Prob (F-statistic):</th> <td>4.03e-05</td>\n",
       "</tr>\n",
       "<tr>\n",
       "  <th>Time:</th>                    <td>11:35:05</td>        <th>  Log-Likelihood:    </th> <td> -210.12</td>\n",
       "</tr>\n",
       "<tr>\n",
       "  <th>No. Observations:</th>         <td>    14</td>         <th>  AIC:               </th> <td>   424.2</td>\n",
       "</tr>\n",
       "<tr>\n",
       "  <th>Df Residuals:</th>             <td>    12</td>         <th>  BIC:               </th> <td>   425.5</td>\n",
       "</tr>\n",
       "<tr>\n",
       "  <th>Df Model:</th>                 <td>     1</td>         <th>                     </th>     <td> </td>   \n",
       "</tr>\n",
       "<tr>\n",
       "  <th>Covariance Type:</th>         <td>nonrobust</td>       <th>                     </th>     <td> </td>   \n",
       "</tr>\n",
       "</table>\n",
       "<table class=\"simpletable\">\n",
       "<tr>\n",
       "           <td></td>              <th>coef</th>     <th>std err</th>      <th>t</th>      <th>P>|t|</th>  <th>[0.025</th>    <th>0.975]</th>  \n",
       "</tr>\n",
       "<tr>\n",
       "  <th>const</th>               <td> 2.178e+04</td> <td> 3.14e+05</td> <td>    0.069</td> <td> 0.946</td> <td>-6.63e+05</td> <td> 7.07e+05</td>\n",
       "</tr>\n",
       "<tr>\n",
       "  <th>Number Of Incidents</th> <td> 2.256e+04</td> <td> 3589.514</td> <td>    6.286</td> <td> 0.000</td> <td> 1.47e+04</td> <td> 3.04e+04</td>\n",
       "</tr>\n",
       "</table>\n",
       "<table class=\"simpletable\">\n",
       "<tr>\n",
       "  <th>Omnibus:</th>       <td>15.527</td> <th>  Durbin-Watson:     </th> <td>   2.600</td>\n",
       "</tr>\n",
       "<tr>\n",
       "  <th>Prob(Omnibus):</th> <td> 0.000</td> <th>  Jarque-Bera (JB):  </th> <td>  11.542</td>\n",
       "</tr>\n",
       "<tr>\n",
       "  <th>Skew:</th>          <td> 1.784</td> <th>  Prob(JB):          </th> <td> 0.00312</td>\n",
       "</tr>\n",
       "<tr>\n",
       "  <th>Kurtosis:</th>      <td> 5.656</td> <th>  Cond. No.          </th> <td>    119.</td>\n",
       "</tr>\n",
       "</table><br/><br/>Notes:<br/>[1] Standard Errors assume that the covariance matrix of the errors is correctly specified."
      ],
      "text/latex": [
       "\\begin{center}\n",
       "\\begin{tabular}{lclc}\n",
       "\\toprule\n",
       "\\textbf{Dep. Variable:}      & WashingtoniansAffected & \\textbf{  R-squared:         } &     0.767   \\\\\n",
       "\\textbf{Model:}              &          OLS           & \\textbf{  Adj. R-squared:    } &     0.748   \\\\\n",
       "\\textbf{Method:}             &     Least Squares      & \\textbf{  F-statistic:       } &     39.52   \\\\\n",
       "\\textbf{Date:}               &    Tue, 14 Nov 2023    & \\textbf{  Prob (F-statistic):} &  4.03e-05   \\\\\n",
       "\\textbf{Time:}               &        11:35:05        & \\textbf{  Log-Likelihood:    } &   -210.12   \\\\\n",
       "\\textbf{No. Observations:}   &             14         & \\textbf{  AIC:               } &     424.2   \\\\\n",
       "\\textbf{Df Residuals:}       &             12         & \\textbf{  BIC:               } &     425.5   \\\\\n",
       "\\textbf{Df Model:}           &              1         & \\textbf{                     } &             \\\\\n",
       "\\textbf{Covariance Type:}    &       nonrobust        & \\textbf{                     } &             \\\\\n",
       "\\bottomrule\n",
       "\\end{tabular}\n",
       "\\begin{tabular}{lcccccc}\n",
       "                             & \\textbf{coef} & \\textbf{std err} & \\textbf{t} & \\textbf{P$> |$t$|$} & \\textbf{[0.025} & \\textbf{0.975]}  \\\\\n",
       "\\midrule\n",
       "\\textbf{const}               &    2.178e+04  &     3.14e+05     &     0.069  &         0.946        &    -6.63e+05    &     7.07e+05     \\\\\n",
       "\\textbf{Number Of Incidents} &    2.256e+04  &     3589.514     &     6.286  &         0.000        &     1.47e+04    &     3.04e+04     \\\\\n",
       "\\bottomrule\n",
       "\\end{tabular}\n",
       "\\begin{tabular}{lclc}\n",
       "\\textbf{Omnibus:}       & 15.527 & \\textbf{  Durbin-Watson:     } &    2.600  \\\\\n",
       "\\textbf{Prob(Omnibus):} &  0.000 & \\textbf{  Jarque-Bera (JB):  } &   11.542  \\\\\n",
       "\\textbf{Skew:}          &  1.784 & \\textbf{  Prob(JB):          } &  0.00312  \\\\\n",
       "\\textbf{Kurtosis:}      &  5.656 & \\textbf{  Cond. No.          } &     119.  \\\\\n",
       "\\bottomrule\n",
       "\\end{tabular}\n",
       "%\\caption{OLS Regression Results}\n",
       "\\end{center}\n",
       "\n",
       "Notes: \\newline\n",
       " [1] Standard Errors assume that the covariance matrix of the errors is correctly specified."
      ],
      "text/plain": [
       "<class 'statsmodels.iolib.summary.Summary'>\n",
       "\"\"\"\n",
       "                              OLS Regression Results                              \n",
       "==================================================================================\n",
       "Dep. Variable:     WashingtoniansAffected   R-squared:                       0.767\n",
       "Model:                                OLS   Adj. R-squared:                  0.748\n",
       "Method:                     Least Squares   F-statistic:                     39.52\n",
       "Date:                    Tue, 14 Nov 2023   Prob (F-statistic):           4.03e-05\n",
       "Time:                            11:35:05   Log-Likelihood:                -210.12\n",
       "No. Observations:                      14   AIC:                             424.2\n",
       "Df Residuals:                          12   BIC:                             425.5\n",
       "Df Model:                               1                                         \n",
       "Covariance Type:                nonrobust                                         \n",
       "=======================================================================================\n",
       "                          coef    std err          t      P>|t|      [0.025      0.975]\n",
       "---------------------------------------------------------------------------------------\n",
       "const                2.178e+04   3.14e+05      0.069      0.946   -6.63e+05    7.07e+05\n",
       "Number Of Incidents  2.256e+04   3589.514      6.286      0.000    1.47e+04    3.04e+04\n",
       "==============================================================================\n",
       "Omnibus:                       15.527   Durbin-Watson:                   2.600\n",
       "Prob(Omnibus):                  0.000   Jarque-Bera (JB):               11.542\n",
       "Skew:                           1.784   Prob(JB):                      0.00312\n",
       "Kurtosis:                       5.656   Cond. No.                         119.\n",
       "==============================================================================\n",
       "\n",
       "Notes:\n",
       "[1] Standard Errors assume that the covariance matrix of the errors is correctly specified.\n",
       "\"\"\""
      ]
     },
     "execution_count": 156,
     "metadata": {},
     "output_type": "execute_result"
    }
   ],
   "source": [
    "X = sm.add_constant(X)\n",
    "\n",
    "model = sm.OLS(y,X).fit()\n",
    "predictions = model.predict(X)\n",
    "res = model.resid\n",
    "\n",
    "model.summary()"
   ]
  },
  {
   "cell_type": "code",
   "execution_count": 157,
   "metadata": {},
   "outputs": [],
   "source": [
    "X_train, X_test, y_train, y_test = train_test_split(X, y, test_size=0.05)"
   ]
  },
  {
   "cell_type": "code",
   "execution_count": 158,
   "metadata": {},
   "outputs": [
    {
     "data": {
      "text/html": [
       "<div>\n",
       "<style scoped>\n",
       "    .dataframe tbody tr th:only-of-type {\n",
       "        vertical-align: middle;\n",
       "    }\n",
       "\n",
       "    .dataframe tbody tr th {\n",
       "        vertical-align: top;\n",
       "    }\n",
       "\n",
       "    .dataframe thead th {\n",
       "        text-align: right;\n",
       "    }\n",
       "</style>\n",
       "<table border=\"1\" class=\"dataframe\">\n",
       "  <thead>\n",
       "    <tr style=\"text-align: right;\">\n",
       "      <th></th>\n",
       "      <th>const</th>\n",
       "      <th>Number Of Incidents</th>\n",
       "    </tr>\n",
       "    <tr>\n",
       "      <th>ActualYears</th>\n",
       "      <th></th>\n",
       "      <th></th>\n",
       "    </tr>\n",
       "  </thead>\n",
       "  <tbody>\n",
       "    <tr>\n",
       "      <th>2010</th>\n",
       "      <td>1</td>\n",
       "      <td>1</td>\n",
       "    </tr>\n",
       "    <tr>\n",
       "      <th>2015</th>\n",
       "      <td>1</td>\n",
       "      <td>18</td>\n",
       "    </tr>\n",
       "    <tr>\n",
       "      <th>2021</th>\n",
       "      <td>1</td>\n",
       "      <td>152</td>\n",
       "    </tr>\n",
       "    <tr>\n",
       "      <th>2008</th>\n",
       "      <td>1</td>\n",
       "      <td>1</td>\n",
       "    </tr>\n",
       "    <tr>\n",
       "      <th>2023</th>\n",
       "      <td>1</td>\n",
       "      <td>108</td>\n",
       "    </tr>\n",
       "    <tr>\n",
       "      <th>2019</th>\n",
       "      <td>1</td>\n",
       "      <td>63</td>\n",
       "    </tr>\n",
       "    <tr>\n",
       "      <th>2018</th>\n",
       "      <td>1</td>\n",
       "      <td>42</td>\n",
       "    </tr>\n",
       "    <tr>\n",
       "      <th>2011</th>\n",
       "      <td>1</td>\n",
       "      <td>1</td>\n",
       "    </tr>\n",
       "    <tr>\n",
       "      <th>2016</th>\n",
       "      <td>1</td>\n",
       "      <td>64</td>\n",
       "    </tr>\n",
       "    <tr>\n",
       "      <th>2017</th>\n",
       "      <td>1</td>\n",
       "      <td>45</td>\n",
       "    </tr>\n",
       "    <tr>\n",
       "      <th>2014</th>\n",
       "      <td>1</td>\n",
       "      <td>8</td>\n",
       "    </tr>\n",
       "    <tr>\n",
       "      <th>2013</th>\n",
       "      <td>1</td>\n",
       "      <td>3</td>\n",
       "    </tr>\n",
       "    <tr>\n",
       "      <th>2020</th>\n",
       "      <td>1</td>\n",
       "      <td>221</td>\n",
       "    </tr>\n",
       "  </tbody>\n",
       "</table>\n",
       "</div>"
      ],
      "text/plain": [
       "             const  Number Of Incidents\n",
       "ActualYears                            \n",
       "2010             1                    1\n",
       "2015             1                   18\n",
       "2021             1                  152\n",
       "2008             1                    1\n",
       "2023             1                  108\n",
       "2019             1                   63\n",
       "2018             1                   42\n",
       "2011             1                    1\n",
       "2016             1                   64\n",
       "2017             1                   45\n",
       "2014             1                    8\n",
       "2013             1                    3\n",
       "2020             1                  221"
      ]
     },
     "execution_count": 158,
     "metadata": {},
     "output_type": "execute_result"
    }
   ],
   "source": [
    "X_train"
   ]
  },
  {
   "cell_type": "code",
   "execution_count": 159,
   "metadata": {},
   "outputs": [
    {
     "name": "stdout",
     "output_type": "stream",
     "text": [
      "train_fold1 has an rmse of:927037.4724870606\n",
      "train_fold2 has an rmse of:537069.3574289308\n",
      "train_fold3 has an rmse of:1104584.9747412559\n",
      "train_fold4 has an rmse of:618369.0276307518\n",
      "train_fold5 has an rmse of:1801275.7650247277\n",
      "The mean rmse is: 997667.3194625454\n"
     ]
    }
   ],
   "source": [
    "cross_val(X_train, y_train, 5)"
   ]
  },
  {
   "cell_type": "code",
   "execution_count": 160,
   "metadata": {},
   "outputs": [
    {
     "data": {
      "text/html": [
       "<div>\n",
       "<style scoped>\n",
       "    .dataframe tbody tr th:only-of-type {\n",
       "        vertical-align: middle;\n",
       "    }\n",
       "\n",
       "    .dataframe tbody tr th {\n",
       "        vertical-align: top;\n",
       "    }\n",
       "\n",
       "    .dataframe thead th {\n",
       "        text-align: right;\n",
       "    }\n",
       "</style>\n",
       "<table border=\"1\" class=\"dataframe\">\n",
       "  <thead>\n",
       "    <tr style=\"text-align: right;\">\n",
       "      <th></th>\n",
       "      <th>const</th>\n",
       "      <th>Number Of Incidents</th>\n",
       "    </tr>\n",
       "    <tr>\n",
       "      <th>ActualYears</th>\n",
       "      <th></th>\n",
       "      <th></th>\n",
       "    </tr>\n",
       "  </thead>\n",
       "  <tbody>\n",
       "    <tr>\n",
       "      <th>2022</th>\n",
       "      <td>1</td>\n",
       "      <td>107</td>\n",
       "    </tr>\n",
       "  </tbody>\n",
       "</table>\n",
       "</div>"
      ],
      "text/plain": [
       "             const  Number Of Incidents\n",
       "ActualYears                            \n",
       "2022             1                  107"
      ]
     },
     "execution_count": 160,
     "metadata": {},
     "output_type": "execute_result"
    }
   ],
   "source": [
    "X_test"
   ]
  },
  {
   "cell_type": "code",
   "execution_count": 161,
   "metadata": {},
   "outputs": [
    {
     "data": {
      "text/plain": [
       "ActualYears\n",
       "2022   2383614\n",
       "Name: WashingtoniansAffected, dtype: float64"
      ]
     },
     "execution_count": 161,
     "metadata": {},
     "output_type": "execute_result"
    }
   ],
   "source": [
    "y_test"
   ]
  },
  {
   "cell_type": "code",
   "execution_count": 183,
   "metadata": {},
   "outputs": [
    {
     "data": {
      "text/plain": [
       "array([2442754.61168192])"
      ]
     },
     "execution_count": 183,
     "metadata": {},
     "output_type": "execute_result"
    }
   ],
   "source": [
    "model = LinearRegression()\n",
    "model.fit(X_train,y_train)\n",
    "y_pred = model.predict(X_test)\n",
    "y_pred"
   ]
  },
  {
   "cell_type": "code",
   "execution_count": 201,
   "metadata": {},
   "outputs": [
    {
     "data": {
      "image/png": "[encoded data removed]",
      "text/plain": [
       "<Figure size 640x480 with 1 Axes>"
      ]
     },
     "metadata": {},
     "output_type": "display_data"
    }
   ],
   "source": [
    "num_affected['Num_incidents'] = num_incidents['Number Of Incidents']\n",
    "num_affected\n",
    "fig, ax = plt.subplots()\n",
    "model_display = sns.regplot(data = num_affected, x='Num_incidents', y='WashingtoniansAffected', x_estimator=model)\n",
    "ax.set_title('Model Performance')\n",
    "ax = model_display\n",
    "fig.savefig('../images/model')"
   ]
  },
  {
   "cell_type": "markdown",
   "metadata": {},
   "source": [
    "#### Seasons"
   ]
  },
  {
   "cell_type": "code",
   "execution_count": 163,
   "metadata": {},
   "outputs": [
    {
     "name": "stderr",
     "output_type": "stream",
     "text": [
      "C:\\Users\\RGBMonster\\AppData\\Local\\Temp\\ipykernel_18600\\3670418968.py:1: SettingWithCopyWarning: \n",
      "A value is trying to be set on a copy of a slice from a DataFrame.\n",
      "Try using .loc[row_indexer,col_indexer] = value instead\n",
      "\n",
      "See the caveats in the documentation: https://pandas.pydata.org/pandas-docs/stable/user_guide/indexing.html#returning-a-view-versus-a-copy\n",
      "  cleandf['Season'] = cleandf['DateStart'].apply(to_season)\n"
     ]
    }
   ],
   "source": [
    "cleandf['Season'] = cleandf['DateStart'].apply(to_season)"
   ]
  },
  {
   "cell_type": "code",
   "execution_count": 164,
   "metadata": {},
   "outputs": [
    {
     "data": {
      "image/png": "[encoded data removed]",
      "text/plain": [
       "<Figure size 640x480 with 1 Axes>"
      ]
     },
     "metadata": {},
     "output_type": "display_data"
    }
   ],
   "source": [
    "grouped_seasons = cleandf[['Season','WashingtoniansAffected']].groupby('Season')\n",
    "grouped_seasons.sum()\n",
    "grouped_seasons.sum()['WashingtoniansAffected']\n",
    "\n",
    "fig, ax = plt.subplots()\n",
    "ax.pie(grouped_seasons.sum()['WashingtoniansAffected'], labels=grouped_seasons.sum()['WashingtoniansAffected'].index, autopct='%1.1f%%')\n",
    "plt.show()"
   ]
  },
  {
   "cell_type": "code",
   "execution_count": 165,
   "metadata": {},
   "outputs": [
    {
     "data": {
      "text/html": [
       "<div>\n",
       "<style scoped>\n",
       "    .dataframe tbody tr th:only-of-type {\n",
       "        vertical-align: middle;\n",
       "    }\n",
       "\n",
       "    .dataframe tbody tr th {\n",
       "        vertical-align: top;\n",
       "    }\n",
       "\n",
       "    .dataframe thead th {\n",
       "        text-align: right;\n",
       "    }\n",
       "</style>\n",
       "<table border=\"1\" class=\"dataframe\">\n",
       "  <thead>\n",
       "    <tr style=\"text-align: right;\">\n",
       "      <th></th>\n",
       "      <th>DateStart</th>\n",
       "      <th>DataBreachCause</th>\n",
       "      <th>CyberattackType</th>\n",
       "      <th>WashingtoniansAffected</th>\n",
       "      <th>IndustryType</th>\n",
       "      <th>BusinessType</th>\n",
       "      <th>ActualYears</th>\n",
       "      <th>Season</th>\n",
       "    </tr>\n",
       "  </thead>\n",
       "  <tbody>\n",
       "    <tr>\n",
       "      <th>0</th>\n",
       "      <td>2017-09-20</td>\n",
       "      <td>Theft or Mistake</td>\n",
       "      <td>NaN</td>\n",
       "      <td>515</td>\n",
       "      <td>Health</td>\n",
       "      <td>NaN</td>\n",
       "      <td>2017</td>\n",
       "      <td>Fall</td>\n",
       "    </tr>\n",
       "    <tr>\n",
       "      <th>1</th>\n",
       "      <td>2016-10-13</td>\n",
       "      <td>Cyberattack</td>\n",
       "      <td>Unreported</td>\n",
       "      <td>10888</td>\n",
       "      <td>Business</td>\n",
       "      <td>Transportation</td>\n",
       "      <td>2016</td>\n",
       "      <td>Fall</td>\n",
       "    </tr>\n",
       "    <tr>\n",
       "      <th>2</th>\n",
       "      <td>2016-10-26</td>\n",
       "      <td>Cyberattack</td>\n",
       "      <td>Malware</td>\n",
       "      <td>4077</td>\n",
       "      <td>Business</td>\n",
       "      <td>Consumable</td>\n",
       "      <td>2016</td>\n",
       "      <td>Fall</td>\n",
       "    </tr>\n",
       "    <tr>\n",
       "      <th>3</th>\n",
       "      <td>2016-06-15</td>\n",
       "      <td>Unauthorized Access</td>\n",
       "      <td>NaN</td>\n",
       "      <td>590</td>\n",
       "      <td>Business</td>\n",
       "      <td>Manufacturing</td>\n",
       "      <td>2016</td>\n",
       "      <td>Summer</td>\n",
       "    </tr>\n",
       "    <tr>\n",
       "      <th>4</th>\n",
       "      <td>2015-07-01</td>\n",
       "      <td>Cyberattack</td>\n",
       "      <td>Malware</td>\n",
       "      <td>956</td>\n",
       "      <td>Business</td>\n",
       "      <td>Fitness</td>\n",
       "      <td>2015</td>\n",
       "      <td>Summer</td>\n",
       "    </tr>\n",
       "    <tr>\n",
       "      <th>...</th>\n",
       "      <td>...</td>\n",
       "      <td>...</td>\n",
       "      <td>...</td>\n",
       "      <td>...</td>\n",
       "      <td>...</td>\n",
       "      <td>...</td>\n",
       "      <td>...</td>\n",
       "      <td>...</td>\n",
       "    </tr>\n",
       "    <tr>\n",
       "      <th>985</th>\n",
       "      <td>2023-05-30</td>\n",
       "      <td>Cyberattack</td>\n",
       "      <td>Other</td>\n",
       "      <td>5886</td>\n",
       "      <td>Health</td>\n",
       "      <td>NaN</td>\n",
       "      <td>2023</td>\n",
       "      <td>Spring</td>\n",
       "    </tr>\n",
       "    <tr>\n",
       "      <th>986</th>\n",
       "      <td>2022-08-01</td>\n",
       "      <td>Cyberattack</td>\n",
       "      <td>Other</td>\n",
       "      <td>2319</td>\n",
       "      <td>Business</td>\n",
       "      <td>Software</td>\n",
       "      <td>2022</td>\n",
       "      <td>Summer</td>\n",
       "    </tr>\n",
       "    <tr>\n",
       "      <th>987</th>\n",
       "      <td>2023-01-12</td>\n",
       "      <td>Cyberattack</td>\n",
       "      <td>Ransomware</td>\n",
       "      <td>805</td>\n",
       "      <td>Business</td>\n",
       "      <td>Clothing</td>\n",
       "      <td>2023</td>\n",
       "      <td>Winter</td>\n",
       "    </tr>\n",
       "    <tr>\n",
       "      <th>988</th>\n",
       "      <td>2023-05-29</td>\n",
       "      <td>Cyberattack</td>\n",
       "      <td>Other</td>\n",
       "      <td>978</td>\n",
       "      <td>Business</td>\n",
       "      <td>Other</td>\n",
       "      <td>2023</td>\n",
       "      <td>Spring</td>\n",
       "    </tr>\n",
       "    <tr>\n",
       "      <th>989</th>\n",
       "      <td>2021-10-27</td>\n",
       "      <td>Unauthorized Access</td>\n",
       "      <td>NaN</td>\n",
       "      <td>7518</td>\n",
       "      <td>Finance</td>\n",
       "      <td>NaN</td>\n",
       "      <td>2021</td>\n",
       "      <td>Fall</td>\n",
       "    </tr>\n",
       "  </tbody>\n",
       "</table>\n",
       "<p>990 rows × 8 columns</p>\n",
       "</div>"
      ],
      "text/plain": [
       "      DateStart      DataBreachCause CyberattackType  WashingtoniansAffected  \\\n",
       "0    2017-09-20     Theft or Mistake             NaN                     515   \n",
       "1    2016-10-13          Cyberattack      Unreported                   10888   \n",
       "2    2016-10-26          Cyberattack         Malware                    4077   \n",
       "3    2016-06-15  Unauthorized Access             NaN                     590   \n",
       "4    2015-07-01          Cyberattack         Malware                     956   \n",
       "..          ...                  ...             ...                     ...   \n",
       "985  2023-05-30          Cyberattack           Other                    5886   \n",
       "986  2022-08-01          Cyberattack           Other                    2319   \n",
       "987  2023-01-12          Cyberattack      Ransomware                     805   \n",
       "988  2023-05-29          Cyberattack           Other                     978   \n",
       "989  2021-10-27  Unauthorized Access             NaN                    7518   \n",
       "\n",
       "    IndustryType    BusinessType  ActualYears  Season  \n",
       "0         Health             NaN         2017    Fall  \n",
       "1       Business  Transportation         2016    Fall  \n",
       "2       Business      Consumable         2016    Fall  \n",
       "3       Business   Manufacturing         2016  Summer  \n",
       "4       Business         Fitness         2015  Summer  \n",
       "..           ...             ...          ...     ...  \n",
       "985       Health             NaN         2023  Spring  \n",
       "986     Business        Software         2022  Summer  \n",
       "987     Business        Clothing         2023  Winter  \n",
       "988     Business           Other         2023  Spring  \n",
       "989      Finance             NaN         2021    Fall  \n",
       "\n",
       "[990 rows x 8 columns]"
      ]
     },
     "execution_count": 165,
     "metadata": {},
     "output_type": "execute_result"
    }
   ],
   "source": [
    "cleandf"
   ]
  },
  {
   "cell_type": "code",
   "execution_count": 166,
   "metadata": {},
   "outputs": [],
   "source": [
    "model_df = cleandf[['Season', 'WashingtoniansAffected']].dropna()"
   ]
  },
  {
   "cell_type": "code",
   "execution_count": 167,
   "metadata": {},
   "outputs": [],
   "source": [
    "X = model_df[['Season']]\n",
    "X = pd.get_dummies(X)\n",
    "X.drop('Season_Winter', axis=1, inplace=True)\n",
    "y = model_df['WashingtoniansAffected']"
   ]
  },
  {
   "cell_type": "code",
   "execution_count": 168,
   "metadata": {},
   "outputs": [
    {
     "data": {
      "text/html": [
       "<table class=\"simpletable\">\n",
       "<caption>OLS Regression Results</caption>\n",
       "<tr>\n",
       "  <th>Dep. Variable:</th>    <td>WashingtoniansAffected</td> <th>  R-squared:         </th> <td>   0.001</td> \n",
       "</tr>\n",
       "<tr>\n",
       "  <th>Model:</th>                      <td>OLS</td>          <th>  Adj. R-squared:    </th> <td>  -0.003</td> \n",
       "</tr>\n",
       "<tr>\n",
       "  <th>Method:</th>                <td>Least Squares</td>     <th>  F-statistic:       </th> <td>  0.1727</td> \n",
       "</tr>\n",
       "<tr>\n",
       "  <th>Date:</th>                <td>Tue, 14 Nov 2023</td>    <th>  Prob (F-statistic):</th>  <td> 0.915</td>  \n",
       "</tr>\n",
       "<tr>\n",
       "  <th>Time:</th>                    <td>11:35:09</td>        <th>  Log-Likelihood:    </th> <td> -11114.</td> \n",
       "</tr>\n",
       "<tr>\n",
       "  <th>No. Observations:</th>         <td>   834</td>         <th>  AIC:               </th> <td>2.224e+04</td>\n",
       "</tr>\n",
       "<tr>\n",
       "  <th>Df Residuals:</th>             <td>   830</td>         <th>  BIC:               </th> <td>2.225e+04</td>\n",
       "</tr>\n",
       "<tr>\n",
       "  <th>Df Model:</th>                 <td>     3</td>         <th>                     </th>     <td> </td>    \n",
       "</tr>\n",
       "<tr>\n",
       "  <th>Covariance Type:</th>         <td>nonrobust</td>       <th>                     </th>     <td> </td>    \n",
       "</tr>\n",
       "</table>\n",
       "<table class=\"simpletable\">\n",
       "<tr>\n",
       "        <td></td>           <th>coef</th>     <th>std err</th>      <th>t</th>      <th>P>|t|</th>  <th>[0.025</th>    <th>0.975]</th>  \n",
       "</tr>\n",
       "<tr>\n",
       "  <th>const</th>         <td> 2.231e+04</td> <td> 8555.243</td> <td>    2.608</td> <td> 0.009</td> <td> 5518.188</td> <td> 3.91e+04</td>\n",
       "</tr>\n",
       "<tr>\n",
       "  <th>Season_Fall</th>   <td>-5218.2180</td> <td> 1.42e+04</td> <td>   -0.367</td> <td> 0.713</td> <td>-3.31e+04</td> <td> 2.27e+04</td>\n",
       "</tr>\n",
       "<tr>\n",
       "  <th>Season_Spring</th> <td> 2196.2344</td> <td> 1.33e+04</td> <td>    0.165</td> <td> 0.869</td> <td> -2.4e+04</td> <td> 2.84e+04</td>\n",
       "</tr>\n",
       "<tr>\n",
       "  <th>Season_Summer</th> <td> 6383.1630</td> <td> 1.49e+04</td> <td>    0.429</td> <td> 0.668</td> <td>-2.28e+04</td> <td> 3.56e+04</td>\n",
       "</tr>\n",
       "</table>\n",
       "<table class=\"simpletable\">\n",
       "<tr>\n",
       "  <th>Omnibus:</th>       <td>1732.580</td> <th>  Durbin-Watson:     </th>  <td>   2.030</td>  \n",
       "</tr>\n",
       "<tr>\n",
       "  <th>Prob(Omnibus):</th>  <td> 0.000</td>  <th>  Jarque-Bera (JB):  </th> <td>3401764.182</td>\n",
       "</tr>\n",
       "<tr>\n",
       "  <th>Skew:</th>           <td>16.251</td>  <th>  Prob(JB):          </th>  <td>    0.00</td>  \n",
       "</tr>\n",
       "<tr>\n",
       "  <th>Kurtosis:</th>       <td>314.185</td> <th>  Cond. No.          </th>  <td>    4.15</td>  \n",
       "</tr>\n",
       "</table><br/><br/>Notes:<br/>[1] Standard Errors assume that the covariance matrix of the errors is correctly specified."
      ],
      "text/latex": [
       "\\begin{center}\n",
       "\\begin{tabular}{lclc}\n",
       "\\toprule\n",
       "\\textbf{Dep. Variable:}    & WashingtoniansAffected & \\textbf{  R-squared:         } &      0.001   \\\\\n",
       "\\textbf{Model:}            &          OLS           & \\textbf{  Adj. R-squared:    } &     -0.003   \\\\\n",
       "\\textbf{Method:}           &     Least Squares      & \\textbf{  F-statistic:       } &     0.1727   \\\\\n",
       "\\textbf{Date:}             &    Tue, 14 Nov 2023    & \\textbf{  Prob (F-statistic):} &     0.915    \\\\\n",
       "\\textbf{Time:}             &        11:35:09        & \\textbf{  Log-Likelihood:    } &    -11114.   \\\\\n",
       "\\textbf{No. Observations:} &            834         & \\textbf{  AIC:               } &  2.224e+04   \\\\\n",
       "\\textbf{Df Residuals:}     &            830         & \\textbf{  BIC:               } &  2.225e+04   \\\\\n",
       "\\textbf{Df Model:}         &              3         & \\textbf{                     } &              \\\\\n",
       "\\textbf{Covariance Type:}  &       nonrobust        & \\textbf{                     } &              \\\\\n",
       "\\bottomrule\n",
       "\\end{tabular}\n",
       "\\begin{tabular}{lcccccc}\n",
       "                        & \\textbf{coef} & \\textbf{std err} & \\textbf{t} & \\textbf{P$> |$t$|$} & \\textbf{[0.025} & \\textbf{0.975]}  \\\\\n",
       "\\midrule\n",
       "\\textbf{const}          &    2.231e+04  &     8555.243     &     2.608  &         0.009        &     5518.188    &     3.91e+04     \\\\\n",
       "\\textbf{Season\\_Fall}   &   -5218.2180  &     1.42e+04     &    -0.367  &         0.713        &    -3.31e+04    &     2.27e+04     \\\\\n",
       "\\textbf{Season\\_Spring} &    2196.2344  &     1.33e+04     &     0.165  &         0.869        &     -2.4e+04    &     2.84e+04     \\\\\n",
       "\\textbf{Season\\_Summer} &    6383.1630  &     1.49e+04     &     0.429  &         0.668        &    -2.28e+04    &     3.56e+04     \\\\\n",
       "\\bottomrule\n",
       "\\end{tabular}\n",
       "\\begin{tabular}{lclc}\n",
       "\\textbf{Omnibus:}       & 1732.580 & \\textbf{  Durbin-Watson:     } &      2.030   \\\\\n",
       "\\textbf{Prob(Omnibus):} &   0.000  & \\textbf{  Jarque-Bera (JB):  } & 3401764.182  \\\\\n",
       "\\textbf{Skew:}          &  16.251  & \\textbf{  Prob(JB):          } &       0.00   \\\\\n",
       "\\textbf{Kurtosis:}      & 314.185  & \\textbf{  Cond. No.          } &       4.15   \\\\\n",
       "\\bottomrule\n",
       "\\end{tabular}\n",
       "%\\caption{OLS Regression Results}\n",
       "\\end{center}\n",
       "\n",
       "Notes: \\newline\n",
       " [1] Standard Errors assume that the covariance matrix of the errors is correctly specified."
      ],
      "text/plain": [
       "<class 'statsmodels.iolib.summary.Summary'>\n",
       "\"\"\"\n",
       "                              OLS Regression Results                              \n",
       "==================================================================================\n",
       "Dep. Variable:     WashingtoniansAffected   R-squared:                       0.001\n",
       "Model:                                OLS   Adj. R-squared:                 -0.003\n",
       "Method:                     Least Squares   F-statistic:                    0.1727\n",
       "Date:                    Tue, 14 Nov 2023   Prob (F-statistic):              0.915\n",
       "Time:                            11:35:09   Log-Likelihood:                -11114.\n",
       "No. Observations:                     834   AIC:                         2.224e+04\n",
       "Df Residuals:                         830   BIC:                         2.225e+04\n",
       "Df Model:                               3                                         \n",
       "Covariance Type:                nonrobust                                         \n",
       "=================================================================================\n",
       "                    coef    std err          t      P>|t|      [0.025      0.975]\n",
       "---------------------------------------------------------------------------------\n",
       "const          2.231e+04   8555.243      2.608      0.009    5518.188    3.91e+04\n",
       "Season_Fall   -5218.2180   1.42e+04     -0.367      0.713   -3.31e+04    2.27e+04\n",
       "Season_Spring  2196.2344   1.33e+04      0.165      0.869    -2.4e+04    2.84e+04\n",
       "Season_Summer  6383.1630   1.49e+04      0.429      0.668   -2.28e+04    3.56e+04\n",
       "==============================================================================\n",
       "Omnibus:                     1732.580   Durbin-Watson:                   2.030\n",
       "Prob(Omnibus):                  0.000   Jarque-Bera (JB):          3401764.182\n",
       "Skew:                          16.251   Prob(JB):                         0.00\n",
       "Kurtosis:                     314.185   Cond. No.                         4.15\n",
       "==============================================================================\n",
       "\n",
       "Notes:\n",
       "[1] Standard Errors assume that the covariance matrix of the errors is correctly specified.\n",
       "\"\"\""
      ]
     },
     "execution_count": 168,
     "metadata": {},
     "output_type": "execute_result"
    }
   ],
   "source": [
    "X = sm.add_constant(X)\n",
    "\n",
    "model = sm.OLS(y,X).fit()\n",
    "predictions = model.predict(X)\n",
    "res = model.resid\n",
    "\n",
    "model.summary()"
   ]
  }
 ],
 "metadata": {
  "kernelspec": {
   "display_name": "base",
   "language": "python",
   "name": "python3"
  },
  "language_info": {
   "codemirror_mode": {
    "name": "ipython",
    "version": 3
   },
   "file_extension": ".py",
   "mimetype": "text/x-python",
   "name": "python",
   "nbconvert_exporter": "python",
   "pygments_lexer": "ipython3",
   "version": "3.11.4"
  }
 },
 "nbformat": 4,
 "nbformat_minor": 2
}
